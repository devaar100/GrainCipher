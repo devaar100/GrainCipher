{
 "cells": [
  {
   "cell_type": "code",
   "execution_count": 65,
   "metadata": {},
   "outputs": [],
   "source": [
    "import numpy as np\n",
    "import binascii"
   ]
  },
  {
   "cell_type": "code",
   "execution_count": 126,
   "metadata": {},
   "outputs": [],
   "source": [
    "## Hepler functions for interconversion of bits and strings\n",
    "\n",
    "def text_to_bits(text, encoding='utf-8', errors='surrogatepass'):\n",
    "    bits = bin(int(binascii.hexlify(text.encode(encoding, errors)), 16))[2:]\n",
    "    return bits.zfill(8 * ((len(bits) + 7) // 8))\n",
    "\n",
    "def text_from_bits(bits, encoding='utf-8', errors='surrogatepass'):\n",
    "    n = int(bits, 2)\n",
    "    return int2bytes(n).decode(encoding, errors)\n",
    "\n",
    "def int2bytes(i):\n",
    "    hex_string = '%x' % i\n",
    "    n = len(hex_string)\n",
    "    return binascii.unhexlify(hex_string.zfill(n + (n & 1)))"
   ]
  },
  {
   "cell_type": "code",
   "execution_count": 3,
   "metadata": {},
   "outputs": [],
   "source": [
    "## Main building blocks of Grain Cipher, namely a Linear Feedback Shift Register (LFSR)\n",
    "## and a Non-linear Feedback Shift Register (NFSR)\n",
    "\n",
    "lfsr = np.zeros(80,dtype=bool)\n",
    "nfsr = np.zeros(80,dtype=bool)"
   ]
  },
  {
   "cell_type": "code",
   "execution_count": 4,
   "metadata": {},
   "outputs": [],
   "source": [
    "## Initialise LFSR and NFSR using IV and Secret Key\n",
    "## First load the NFSR with the key bits, bi = ki, 0 ≤ i ≤ 79,\n",
    "## then load the first 64 bits of the LFSR with the IV, si = IVi, 0 ≤ i ≤ 63.\n",
    "## The remaining bits of the LFSR are filled with ones, si = 1, 64 ≤ i ≤ 79.\n",
    "## Because of this the LFSR cannot be initialized to the all zero state.\n",
    "\n",
    "def init(iv,key):\n",
    "    iv_bin = string2bits(iv)\n",
    "    iv_bin = ''.join(iv_bin)\n",
    "    lfsr[:64] = [bool(int(iv_bin[ix])) for ix in range(len(iv_bin))]\n",
    "    lfsr[64:] = 1\n",
    "    key_bin = string2bits(key)\n",
    "    key_bin = ''.join(key_bin)\n",
    "    nfsr[:] = [bool(int(key_bin[ix])) for ix in range(len(key_bin))]"
   ]
  },
  {
   "cell_type": "code",
   "execution_count": 5,
   "metadata": {},
   "outputs": [],
   "source": [
    "init('absolute','california')"
   ]
  },
  {
   "cell_type": "code",
   "execution_count": 17,
   "metadata": {},
   "outputs": [],
   "source": [
    "## The cipher is clocked 160 times without producing any running key\n",
    "## The output of the filter function, h(x), is fed back and xored with the input, both to the LFSR and to the NFSR\n",
    "\n",
    "def clock():\n",
    "    hx=0\n",
    "    fx=0\n",
    "    gx=0\n",
    "    global lfsr\n",
    "    global nfsr\n",
    "    for ix in range(160):\n",
    "        fx = lfsr[62] ^ lfsr[51] ^ lfsr[38] ^ lfsr[23] ^ lfsr[13] ^ lfsr[0] ^ hx\n",
    "        gx = hx ^ nfsr[0] ^ nfsr[63] ^ nfsr[60] ^ nfsr[52] ^ nfsr[45] ^ nfsr[37] ^ nfsr[33] ^ nfsr[28] ^ nfsr[21] ^ nfsr[15] ^ nfsr[19] ^ nfsr[0] ^ nfsr[63] & nfsr[60] ^ nfsr[37] & nfsr[33] ^ nfsr[15] & nfsr[9] ^ nfsr[60] & nfsr[52] & nfsr[45] ^ nfsr[33] & nfsr[28] & nfsr[21] ^ nfsr[63] & nfsr[45] & nfsr[28] & nfsr[9] ^ nfsr[60] & nfsr[52] & nfsr[37] & nfsr[33] ^ nfsr[63] & nfsr[60] & nfsr[21] & nfsr[15] ^ nfsr[63] & nfsr[60] & nfsr[52] & nfsr[45] & nfsr[37] ^ nfsr[33] & nfsr[28] & nfsr[21] & nfsr[15] & nfsr[9] ^ nfsr[52] & nfsr[45] & nfsr[37] & nfsr[33] & nfsr[28] & nfsr[21]\n",
    "        x0 = lfsr[0]\n",
    "        x1 = lfsr[25]\n",
    "        x2 = lfsr[46]\n",
    "        x3 = lfsr[64]\n",
    "        x4 = nfsr[63]\n",
    "        hx = x1 ^ x4 ^ x0 & x3 ^ x2 & x3 ^ x3 & x3 ^ x0 & x1 & x2 ^ x0 & x2 & x3 ^ x0 & x2 & x4 ^ x1 & x2 & x4 ^ x2 & x3 & x4\n",
    "        lfsr[:-1] = lfsr[1:]\n",
    "        lfsr[-1] = fx\n",
    "        nfsr[:-1] = nfsr[1:]\n",
    "        nfsr[-1] = gx"
   ]
  },
  {
   "cell_type": "code",
   "execution_count": 9,
   "metadata": {},
   "outputs": [],
   "source": [
    "init_clock()"
   ]
  },
  {
   "cell_type": "code",
   "execution_count": 12,
   "metadata": {},
   "outputs": [],
   "source": [
    "## Return a stream generator which implements the filter function\n",
    "\n",
    "def gen_key_stream():\n",
    "    hx = 0\n",
    "    while True:\n",
    "        fx = lfsr[62] ^ lfsr[51] ^ lfsr[38] ^ lfsr[23] ^ lfsr[13] ^ lfsr[0]\n",
    "        gx = nfsr[0] ^ nfsr[63] ^ nfsr[60] ^ nfsr[52] ^ nfsr[45] ^ nfsr[37] ^ nfsr[33] ^ nfsr[28] ^ nfsr[21] ^ nfsr[15] ^ nfsr[19] ^ nfsr[0] ^ nfsr[63] & nfsr[60] ^ nfsr[37] & nfsr[33] ^ nfsr[15] & nfsr[9] ^ nfsr[60] & nfsr[52] & nfsr[45] ^ nfsr[33] & nfsr[28] & nfsr[21] ^ nfsr[63] & nfsr[45] & nfsr[28] & nfsr[9] ^ nfsr[60] & nfsr[52] & nfsr[37] & nfsr[33] ^ nfsr[63] & nfsr[60] & nfsr[21] & nfsr[15] ^ nfsr[63] & nfsr[60] & nfsr[52] & nfsr[45] & nfsr[37] ^ nfsr[33] & nfsr[28] & nfsr[21] & nfsr[15] & nfsr[9] ^ nfsr[52] & nfsr[45] & nfsr[37] & nfsr[33] & nfsr[28] & nfsr[21]\n",
    "        x0 = lfsr[0]\n",
    "        x1 = lfsr[25]\n",
    "        x2 = lfsr[46]\n",
    "        x3 = lfsr[64]\n",
    "        x4 = nfsr[63]\n",
    "        hx = x1 ^ x4 ^ x0 & x3 ^ x2 & x3 ^ x3 & x3 ^ x0 & x1 & x2 ^ x0 & x2 & x3 ^ x0 & x2 & x4 ^ x1 & x2 & x4 ^ x2 & x3 & x4\n",
    "        lfsr[:-1] = lfsr[1:]\n",
    "        lfsr[-1] = fx\n",
    "        nfsr[:-1] = nfsr[1:]\n",
    "        nfsr[-1] = gx\n",
    "        yield hx"
   ]
  },
  {
   "cell_type": "code",
   "execution_count": 128,
   "metadata": {},
   "outputs": [],
   "source": [
    "def encrypt(iv,key,plain):\n",
    "    init(iv,key)\n",
    "    clock()\n",
    "    plain = text_to_bits(plain)\n",
    "    stream = gen_key_stream()\n",
    "    cipher = [str(int(bool(int(plain[ix]))^next(stream))) for ix in range(len(plain))]\n",
    "    cipher = ''.join(cipher)\n",
    "    return cipher"
   ]
  },
  {
   "cell_type": "code",
   "execution_count": 129,
   "metadata": {},
   "outputs": [],
   "source": [
    "cipher = encrypt('absolute','california','First Test')"
   ]
  },
  {
   "cell_type": "code",
   "execution_count": 130,
   "metadata": {},
   "outputs": [
    {
     "name": "stdout",
     "output_type": "stream",
     "text": [
      "10100111011001110111001000010001001010110000100001100101001000111010101101000111\n"
     ]
    }
   ],
   "source": [
    "print cipher"
   ]
  },
  {
   "cell_type": "code",
   "execution_count": 137,
   "metadata": {},
   "outputs": [],
   "source": [
    "def decrypt(iv,key,cipher):\n",
    "    init(iv,key)\n",
    "    clock()\n",
    "    stream = gen_key_stream()\n",
    "    plain = [str(int(bool(int(cipher[ix]))^next(stream))) for ix in range(len(cipher))]\n",
    "    plain = ''.join(plain)\n",
    "    plain = text_from_bits(plain)\n",
    "    return plain"
   ]
  },
  {
   "cell_type": "code",
   "execution_count": 138,
   "metadata": {},
   "outputs": [],
   "source": [
    "plain = decrypt('absolute','california',cipher)"
   ]
  },
  {
   "cell_type": "code",
   "execution_count": 139,
   "metadata": {},
   "outputs": [
    {
     "name": "stdout",
     "output_type": "stream",
     "text": [
      "First Test\n"
     ]
    }
   ],
   "source": [
    "print plain"
   ]
  },
  {
   "cell_type": "code",
   "execution_count": null,
   "metadata": {},
   "outputs": [],
   "source": []
  }
 ],
 "metadata": {
  "kernelspec": {
   "display_name": "Python 2",
   "language": "python",
   "name": "python2"
  },
  "language_info": {
   "codemirror_mode": {
    "name": "ipython",
    "version": 2
   },
   "file_extension": ".py",
   "mimetype": "text/x-python",
   "name": "python",
   "nbconvert_exporter": "python",
   "pygments_lexer": "ipython2",
   "version": "2.7.14"
  }
 },
 "nbformat": 4,
 "nbformat_minor": 2
}
